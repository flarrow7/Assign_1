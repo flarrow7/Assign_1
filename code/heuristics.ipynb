{
 "cells": [
  {
   "cell_type": "code",
   "execution_count": 1,
   "metadata": {},
   "outputs": [],
   "source": [
    "INT_MIN = float('-inf')\n",
    "INT_MAX = float('inf')"
   ]
  },
  {
   "cell_type": "code",
   "execution_count": 2,
   "metadata": {},
   "outputs": [],
   "source": [
    "from read_input import readInput\n",
    "import sys"
   ]
  },
  {
   "cell_type": "code",
   "execution_count": 3,
   "metadata": {},
   "outputs": [],
   "source": [
    "class Cell:\n",
    "    x = -1\n",
    "    y = -1\n",
    "    dist = 0\n",
    "    def __init__(self, p, distance = 0):\n",
    "        self.x, self.y = p\n",
    "        self.dist = distance"
   ]
  },
  {
   "cell_type": "code",
   "execution_count": 4,
   "metadata": {},
   "outputs": [],
   "source": [
    "#INPUTS\n",
    "try:\n",
    "    M, N, grid, m, n, agentsData, taskData = readInput(sys.argv[1])\n",
    "except:\n",
    "    M, N, grid, m, n, agentsData, taskData = readInput()\n",
    "\n",
    "\n",
    "adjMat = [[0 for j in range(m+n)] for i in range(m+n)]\n",
    "vertexType = [0 for i in range(len(agentsData))] + [1 for i in range(len(taskData))]\n",
    "vertexData = agentsData + taskData"
   ]
  },
  {
   "cell_type": "code",
   "execution_count": 5,
   "metadata": {},
   "outputs": [],
   "source": [
    "def cellDistance(sp, dp):\n",
    "    ## FINDS MINIMUM DISTANCE BETWEEN SOURCE CELL AND DESTINATION CELL USING BFS\n",
    "    ## RETURNS -1 IF NO PATH FOUND\n",
    "    ## FOR WELL POSED MAPD PROBLEM HOWEVER THERE WILL ALWAYS BE A PATH\n",
    "    source = Cell(sp, 0)\n",
    "    dest = Cell(dp, 0)\n",
    "    visited = [[False for j in range(N)] for i in range(M)]\n",
    "    q = []\n",
    "    q.append(source)\n",
    "    visited[source.x][source.y] = True\n",
    "    \n",
    "    while len(q) > 0:\n",
    "        curr = q.pop(0)\n",
    "        if curr.x == dest.x and curr.y == dest.y:\n",
    "            return curr.dist\n",
    "        \n",
    "        ## CONSIDER ALL 4 NEIGHBORS AND PUSH THEM TO QUEUE IF THEY ARE NOT OBSTACLES\n",
    "        if curr.x - 1 >= 0 and not visited[curr.x - 1][curr.y] and grid[curr.x - 1][curr.y] != 0:\n",
    "            q.append(Cell([curr.x - 1, curr.y], curr.dist + 1))\n",
    "            visited[curr.x - 1][curr.y] = True\n",
    "            \n",
    "        if curr.x + 1 < M and not visited[curr.x + 1][curr.y] and grid[curr.x + 1][curr.y] != 0:\n",
    "            q.append(Cell([curr.x + 1, curr.y], curr.dist + 1))\n",
    "            visited[curr.x + 1][curr.y] = True\n",
    "        \n",
    "        if curr.y - 1 >= 0 and not visited[curr.x][curr.y - 1] and grid[curr.x][curr.y - 1] != 0:\n",
    "            q.append(Cell([curr.x, curr.y - 1], curr.dist + 1))\n",
    "            visited[curr.x][curr.y - 1] = True\n",
    "        \n",
    "        if curr.y + 1 < N and not visited[curr.x][curr.y + 1] and grid[curr.x][curr.y + 1] != 0:\n",
    "            q.append(Cell([curr.x, curr.y + 1], curr.dist + 1))\n",
    "            visited[curr.x][curr.y + 1] = True\n",
    "            \n",
    "    return -1\n"
   ]
  },
  {
   "cell_type": "code",
   "execution_count": 6,
   "metadata": {},
   "outputs": [],
   "source": [
    "def buildGraph():\n",
    "    ## BUILD THE AGENT-TASK GRAPH\n",
    "    for i in range(m+n):\n",
    "        for j in range(m+ n):\n",
    "            u, v = vertexType[i], vertexType[j]\n",
    "            if u == 0 and v == 1:\n",
    "                # U = AGENT AND V = TASK\n",
    "                adjMat[i][j] = cellDistance(vertexData[i][0], vertexData[j][0])\n",
    "            elif u == 1 and v == 1:\n",
    "                # U = TASK AND V = TASKvertexData[i][1]\n",
    "                adjMat[i][j] = cellDistance(vertexData[i][0], vertexData[i][1]) + cellDistance(vertexData[i][1], vertexData[j][0])\n",
    "            elif u == 1 and v == 0:\n",
    "                # U = TASK AND V = AGENT\n",
    "                adjMat[i][j] = cellDistance(vertexData[i][0], vertexData[i][1])\n",
    "            else:\n",
    "                # U = AGENT AND v = AGENT\n",
    "                pass"
   ]
  },
  {
   "cell_type": "code",
   "execution_count": 7,
   "metadata": {},
   "outputs": [],
   "source": [
    "def heapPermutation(a, size, perms):\n",
    "    if size == 1:\n",
    "        perms.append([0] + a)\n",
    "        return\n",
    "    for i in range(size):\n",
    "        heapPermutation(a, size-1, perms)\n",
    "        if size & 1:\n",
    "            a[0], a[size-1] = a[size-1], a[0]\n",
    "        else:\n",
    "            a[i], a[size-1] = a[size-1], a[i]"
   ]
  },
  {
   "cell_type": "code",
   "execution_count": 8,
   "metadata": {},
   "outputs": [],
   "source": [
    "def generateHamiltonianCycles():\n",
    "    ### GENERATES ALL CYCLIC PERMUTATIONS OF NUMBERS FROM 0 TO m+n-1\n",
    "    ### SINCE adjMat IS A COMPLETE GRAPH, THIS WILL SIMPLY GENERATE ALL \n",
    "    ### POSSIBLE HAMILTONIAN CYCLES\n",
    "    perms = []\n",
    "    heapPermutation(list(range(1, m+n, 1)), m + n - 1, perms)\n",
    "    return perms"
   ]
  },
  {
   "cell_type": "code",
   "execution_count": 9,
   "metadata": {},
   "outputs": [],
   "source": [
    "def getMakespan(cycle):\n",
    "    a = 0\n",
    "    for i in range(len(cycle)):\n",
    "        if vertexType[cycle[i]] == 0:\n",
    "            a = i\n",
    "            break\n",
    "\n",
    "    m = INT_MIN\n",
    "    cycle = cycle[a:] + cycle[:a]\n",
    "    t = 0\n",
    "    \n",
    "    agent = 0\n",
    "    \n",
    "    for i in range(len(cycle) - 1):\n",
    "        t += adjMat[cycle[i]][cycle[i+1]]\n",
    "        if vertexType[cycle[i + 1]] == 0:\n",
    "            ## next item is an agent\n",
    "            home = cellDistance(vertexData[cycle[i]][1], vertexData[agent][1])\n",
    "            t += home\n",
    "            m = max(m, t)\n",
    "            t = 0\n",
    "            agent = cycle[i+1]\n",
    "    t += adjMat[cycle[-1]][cycle[0]] + cellDistance(vertexData[cycle[-1]][1], vertexData[agent][1])\n",
    "    m = max(m, t)\n",
    "    return m"
   ]
  },
  {
   "cell_type": "code",
   "execution_count": 10,
   "metadata": {},
   "outputs": [],
   "source": [
    "def getSchedule(cycle):\n",
    "    a = 0\n",
    "    for i in range(len(cycle)):\n",
    "        if vertexType[cycle[i]] == 0:\n",
    "            a = i\n",
    "            break\n",
    "    cycle = cycle[a:] + cycle[:a]\n",
    "    s, e = 0, 0\n",
    "    assignments = dict()\n",
    "    for i in range(len(cycle)):\n",
    "        if (i+1 < len(cycle) and vertexType[cycle[i + 1]] == 0) or i + 1 == len(cycle):\n",
    "            e = i\n",
    "            assignments[cycle[s]] = cycle[s+1: e+1]\n",
    "            s, e = i+1, i+1\n",
    "            \n",
    "    return assignments"
   ]
  },
  {
   "cell_type": "code",
   "execution_count": 11,
   "metadata": {},
   "outputs": [],
   "source": [
    "buildGraph()\n",
    "minTime = INT_MAX\n",
    "index = 0\n",
    "cycles = generateHamiltonianCycles()\n",
    "\n",
    "for i in range(len(cycles)):\n",
    "    cycle = cycles[i]\n",
    "    time = getMakespan(cycle)\n",
    "    if time < minTime:\n",
    "        minTime = time\n",
    "        index = i"
   ]
  },
  {
   "cell_type": "code",
   "execution_count": 12,
   "metadata": {},
   "outputs": [
    {
     "name": "stdout",
     "output_type": "stream",
     "text": [
      "Time Elapsed:  13\n",
      "Task allotment : \n",
      "Robot  0  :  [1]\n",
      "Robot  1  :  [2]\n",
      "Robot  2  :  [0]\n"
     ]
    }
   ],
   "source": [
    "print(\"Time Elapsed: \", minTime)\n",
    "print(\"Task allotment : \")\n",
    "schedules = getSchedule(cycles[index])\n",
    "for key in sorted(schedules.keys()):\n",
    "    schedule = schedules[key]\n",
    "    schedule = [i-m for i in schedule]\n",
    "    print(\"Robot \", key, ' : ', schedule)"
   ]
  },
  {
   "cell_type": "code",
   "execution_count": null,
   "metadata": {},
   "outputs": [],
   "source": []
  }
 ],
 "metadata": {
  "kernelspec": {
   "display_name": "Python 3",
   "language": "python",
   "name": "python3"
  },
  "language_info": {
   "codemirror_mode": {
    "name": "ipython",
    "version": 3
   },
   "file_extension": ".py",
   "mimetype": "text/x-python",
   "name": "python",
   "nbconvert_exporter": "python",
   "pygments_lexer": "ipython3",
   "version": "3.7.6"
  }
 },
 "nbformat": 4,
 "nbformat_minor": 4
}
