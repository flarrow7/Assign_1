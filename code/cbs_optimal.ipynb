{
 "cells": [
  {
   "cell_type": "code",
   "execution_count": 1,
   "metadata": {},
   "outputs": [],
   "source": [
    "INT_MIN = float('-inf')\n",
    "INT_MAX = float('inf')"
   ]
  },
  {
   "cell_type": "code",
   "execution_count": 2,
   "metadata": {},
   "outputs": [],
   "source": [
    "from astar import AStar\n",
    "from read_input import readInput\n",
    "from copy import deepcopy\n",
    "import sys"
   ]
  },
  {
   "cell_type": "code",
   "execution_count": 3,
   "metadata": {},
   "outputs": [],
   "source": [
    "#INPUTS\n",
    "try:\n",
    "    M, N, grid, m, n, agentsData, taskData = readInput(sys.argv[1])\n",
    "except:\n",
    "    M, N, grid, m, n, agentsData, taskData = readInput()\n",
    "\n",
    "S = [d[0] for d in agentsData]\n",
    "E = [d[1] for d in agentsData]\n",
    "P = [d[0] for d in taskData]\n",
    "D = [d[1] for d in taskData]\n",
    "\n",
    "\n",
    "cache = [[[] for j in range(M*N)] for i in range(M*N)]\n",
    "\n",
    "astar = AStar(deepcopy(grid))"
   ]
  },
  {
   "cell_type": "code",
   "execution_count": 4,
   "metadata": {},
   "outputs": [],
   "source": [
    "class Node:\n",
    "    def __init__(self):\n",
    "        self.tasks = [[] for i in range(m)]\n",
    "        self.avoidlist = [[] for i in range(m)]\n",
    "        self.g = [0 for i in range(m)]\n",
    "        self.h = [0 for i in range(m)]\n",
    "        self.F = 0\n",
    "        self.paths = []\n",
    "        self.collision = None\n",
    "    def equals(self, other):\n",
    "        return self.tasks == other.tasks and self.avoidlist == other.avoidlist"
   ]
  },
  {
   "cell_type": "code",
   "execution_count": 5,
   "metadata": {},
   "outputs": [],
   "source": [
    "def expand(s):\n",
    "    # EXPANDS A NODE ACCORDING TO STATE TRANSFORMATION RULES\n",
    "    children = []\n",
    "    assignedTasks = [task for tasks in s.tasks for task in tasks]\n",
    "    if s.collision:\n",
    "        i, j, x, y, t = s.collision\n",
    "        curr = Node()\n",
    "        curr.tasks = deepcopy(s.tasks)\n",
    "        curr.avoidlist[i].append((x, y, t))\n",
    "        children.append(curr)\n",
    "        curr = Node()\n",
    "        curr.tasks = deepcopy(s.tasks)\n",
    "        curr.avoidlist[j].append((x, y, t))\n",
    "        children.append(curr)\n",
    "    else:\n",
    "        for task in range(n):\n",
    "            if task not in assignedTasks:\n",
    "                for agent in range(m):\n",
    "                    curr = Node()\n",
    "                    curr.tasks = deepcopy(s.tasks)\n",
    "                    curr.tasks[agent].append(task)\n",
    "                    children.append(curr)       \n",
    "    return children\n"
   ]
  },
  {
   "cell_type": "code",
   "execution_count": 6,
   "metadata": {},
   "outputs": [],
   "source": [
    "def checkGoal(s):\n",
    "    # CHECKS IF GOAL NODE IS REACHED\n",
    "    if s.collision:\n",
    "        return False\n",
    "    assignedTasks = [task for tasks in s.tasks for task in tasks]\n",
    "    if len(assignedTasks) != n:\n",
    "        return False\n",
    "    return True"
   ]
  },
  {
   "cell_type": "code",
   "execution_count": 7,
   "metadata": {},
   "outputs": [],
   "source": [
    "def distance(src, dest):\n",
    "    # CHECKS CACHE FOR DISTANCE\n",
    "    # CALCULATES A HEURISTIC ESTIMATE OF DISTANCE FROM SOURCE TO DESTINATION\n",
    "    # USING MANHATTAN DISTANCE\n",
    "    c = len(cache[N*src[0] + src[1]][N*dest[0] + dest[1]])\n",
    "    if c == 0:\n",
    "        return abs(src[0] - dest[0]) + abs(src[1] - dest[1])\n",
    "    else:\n",
    "        return c"
   ]
  },
  {
   "cell_type": "code",
   "execution_count": 8,
   "metadata": {},
   "outputs": [],
   "source": [
    "def heuristics(s):\n",
    "    heuristics = [0 for i in range(m)]\n",
    "    assignedTasks = [task for tasks in s.tasks for task in tasks]\n",
    "    tasks = deepcopy(s.tasks)\n",
    "    \n",
    "    for task in range(n):\n",
    "        if task not in assignedTasks:\n",
    "            # ASSIGN TASK TO CLOSEST AGENT\n",
    "            closestAgent = 0\n",
    "            closestDistance = INT_MAX\n",
    "            for agent in range(m):\n",
    "                if len(tasks[agent]) > 0:\n",
    "                    d = distance(D[tasks[agent][-1]], P[task])\n",
    "                    if d < closestDistance:\n",
    "                        closestDistance = d\n",
    "                        closestAgent = agent\n",
    "            # UPDATE THE HEURISTICS FOR EACH AGENT\n",
    "            tasks[closestAgent].append(task)\n",
    "            heuristics[closestAgent] += distance(D[s.tasks[closestAgent][-1]], P[task]) + distance(P[task], D[task])\n",
    "    \n",
    "    for agent in range(m):\n",
    "        if len(tasks[agent]) > 0:\n",
    "            heuristics[agent] += distance(D[tasks[agent][-1]], E[agent])\n",
    "    \n",
    "    return heuristics"
   ]
  },
  {
   "cell_type": "code",
   "execution_count": 9,
   "metadata": {},
   "outputs": [],
   "source": [
    "def planPath(src, tasks, avoidList):\n",
    "    # PLANS PATH FOR SINGLE AGENT\n",
    "    path = []\n",
    "    if len(tasks) == 0:\n",
    "        return path\n",
    "    last = src\n",
    "    for task in tasks:\n",
    "        # CACHE CANNOT BE USED SINCE PATHS ARE PLANNED ACCORDING TO AVOID LISTS\n",
    "        # PLAN LAST TO PICKUP\n",
    "        subpath = astar.findBestPath(last, P[task], avoidList, len(path))\n",
    "        path += subpath[:-1]\n",
    "        \n",
    "        # PLAN PICKUP TO DELIVERY\n",
    "        subpath = astar.findBestPath(P[task], D[task], avoidList, len(path))\n",
    "        path += subpath[:-1]\n",
    "        \n",
    "        last = D[task]\n",
    "    path.append(last)\n",
    "    return path"
   ]
  },
  {
   "cell_type": "code",
   "execution_count": 10,
   "metadata": {},
   "outputs": [],
   "source": [
    "def planPaths(s):\n",
    "    # PLANS PATH FOR ALL AGENTS AND CHECKS FOR COLLISIONS\n",
    "    paths = [planPath(S[agent], s.tasks[agent], s.avoidlist[agent]) for agent in range(m)]\n",
    "    collision = None\n",
    "    for i in range(m):\n",
    "        for j in range(i+1, m):\n",
    "            path_i, path_j = paths[i], paths[j]\n",
    "            k = 1\n",
    "            while k < len(path_i) and k < len(path_j):\n",
    "                if path_i[k] == path_j[k] and grid[path_i[k][0]][path_i[k][1]] != 2 and path_i[k] not in S and path_i[k] not in E:\n",
    "                    collision = (i, j, path_i[k][0], path_i[k][1], k-1)\n",
    "                    break\n",
    "                k += 1\n",
    "    return paths, collision"
   ]
  },
  {
   "cell_type": "code",
   "execution_count": 11,
   "metadata": {},
   "outputs": [],
   "source": [
    "def search():\n",
    "    # SEARCHES THE TASK BASED CONFLICT TREE USING A*\n",
    "    start = Node()\n",
    "    \n",
    "    openset = set()\n",
    "    closedset = set()\n",
    "    current = start\n",
    "    openset.add(current)\n",
    "    \n",
    "    while len(openset) > 0:\n",
    "        current = min(openset, key=lambda o:o.F)\n",
    "        if checkGoal(current):\n",
    "            homepaths = planHome(current)\n",
    "            finalpaths = [current.paths[i][:-1] + homepaths[i] for i in range(m)]\n",
    "            makespan = max([len(path) - 1 for path in finalpaths])\n",
    "            return current.tasks, makespan, finalpaths\n",
    "        \n",
    "        openset.remove(current)\n",
    "        closedset.add(current)\n",
    "        \n",
    "        for node in expand(current):\n",
    "            node.paths, node.collision = planPaths(node)\n",
    "            if node in closedset or node in openset:\n",
    "                pass\n",
    "            else:\n",
    "                node.h = heuristics(node)\n",
    "                node.g = [len(path) - 1 for path in node.paths]\n",
    "                node.F = max([node.h[i] + node.g[i] for i in range(m)])\n",
    "                openset.add(node)"
   ]
  },
  {
   "cell_type": "code",
   "execution_count": 12,
   "metadata": {},
   "outputs": [],
   "source": [
    "class HomeNode:\n",
    "    def __init__(self):\n",
    "        self.avoidlist = [[] for i in range(m)]\n",
    "        self.paths = []\n",
    "        self.collision = None"
   ]
  },
  {
   "cell_type": "code",
   "execution_count": 13,
   "metadata": {},
   "outputs": [],
   "source": [
    "def planHomePaths(s, avoidlist, offset):\n",
    "    # PLANS PATH FOR HOME AND CHECKS FOR COLLISIONS\n",
    "    homepaths = [astar.findBestPath(s.paths[agent][-1], E[agent], avoidlist[agent], offset) for agent in range(m)]\n",
    "    finalpaths = [s.paths[agent][:-1] + homepaths[agent] for agent in range(m)]\n",
    "    collision = None\n",
    "    for i in range(m):\n",
    "        for j in range(i+1, m):\n",
    "            path_i, path_j = finalpaths[i], finalpaths[j]\n",
    "            k = 1\n",
    "            while k < len(path_i) and k < len(path_j):\n",
    "                if path_i[k] == path_j[k] and grid[path_i[k][0]][path_i[k][1]] != 2 and path_i[k] not in S and path_i[k] not in E:\n",
    "                    collision = (i, j, path_i[k][0], path_i[k][1], k-1)\n",
    "                    break\n",
    "                k += 1\n",
    "                \n",
    "    return homepaths, collision"
   ]
  },
  {
   "cell_type": "code",
   "execution_count": 14,
   "metadata": {},
   "outputs": [],
   "source": [
    "def planHome(s):\n",
    "    # PLANS HOME JOURNEY FOR ALL ROBOTS\n",
    "    # USING BFS ON CONFLICT TREE\n",
    "    root = HomeNode()\n",
    "    root.paths, root.collision = planHomePaths(s, root.avoidlist, 0)\n",
    "    queue = [root]\n",
    "    \n",
    "    while len(queue) > 0:\n",
    "        top = queue.pop(0)\n",
    "        \n",
    "        if not top.collision:\n",
    "            return top.paths\n",
    "        \n",
    "        i, j, x, y, t = top.collision\n",
    "        \n",
    "        if t >= len(s.paths[i]) - 1:\n",
    "            left = HomeNode()\n",
    "            left.avoidlist[i].append((x, y, t))\n",
    "            left.paths, left.collision = planHomePaths(s, left.avoidlist, len(s.paths[i]) - 1)\n",
    "            queue.append(left)\n",
    "        \n",
    "        if t >= len(s.paths[j]) - 1:\n",
    "            right = HomeNode()\n",
    "            right.avoidlist[i].append((x, y, t))\n",
    "            right.paths, right.collision = planHomePaths(s, right.avoidlist, len(s.paths[j]) - 1)\n",
    "            queue.append(right)"
   ]
  },
  {
   "cell_type": "code",
   "execution_count": 15,
   "metadata": {},
   "outputs": [
    {
     "name": "stdout",
     "output_type": "stream",
     "text": [
      "Tasks are allocated in the given order !!\n",
      "Robot  0 : [1]\n",
      "Robot  1 : [0]\n",
      "Robot  2 : [2]\n",
      "Time elapsed:  15\n",
      "The paths taken by the robots are : \n",
      "[(0, 0), (1, 0), (2, 0), (3, 0), (3, 1), (4, 1), (3, 1), (3, 2), (3, 3), (2, 3), (2, 4), (3, 4)]\n",
      "[(1, 2), (1, 1), (1, 0), (2, 0), (3, 0), (3, 1), (3, 2), (3, 3), (3, 4), (3, 5)]\n",
      "[(2, 1), (2, 2), (2, 3), (2, 4), (2, 5), (3, 5), (4, 5), (4, 6), (4, 7), (4, 8), (3, 8), (2, 8), (2, 7), (2, 6), (2, 5), (1, 5)]\n"
     ]
    }
   ],
   "source": [
    "tasks, time, finalpaths = search()\n",
    "print(\"Tasks are allocated in the given order !!\")\n",
    "for i in range(m):\n",
    "    schedule = tasks[i]\n",
    "    print(\"Robot \", i, ':', schedule)\n",
    "print(\"Time elapsed: \", time)\n",
    "print(\"The paths taken by the robots are : \")\n",
    "for path in finalpaths:\n",
    "    print(path)\n",
    "    pass"
   ]
  },
  {
   "cell_type": "code",
   "execution_count": null,
   "metadata": {},
   "outputs": [],
   "source": []
  }
 ],
 "metadata": {
  "kernelspec": {
   "display_name": "Python 3",
   "language": "python",
   "name": "python3"
  },
  "language_info": {
   "codemirror_mode": {
    "name": "ipython",
    "version": 3
   },
   "file_extension": ".py",
   "mimetype": "text/x-python",
   "name": "python",
   "nbconvert_exporter": "python",
   "pygments_lexer": "ipython3",
   "version": "3.7.6"
  }
 },
 "nbformat": 4,
 "nbformat_minor": 4
}
